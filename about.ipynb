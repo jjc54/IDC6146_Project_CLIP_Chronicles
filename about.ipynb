{
  "cells": [
    {
      "cell_type": "raw",
      "metadata": {},
      "source": [
        "---\n",
        "title: \"About\"\n",
        "---"
      ],
      "id": "2c74a85a"
    },
    {
      "cell_type": "markdown",
      "metadata": {},
      "source": [
        "```{css}\n",
        ".row {\n",
        "  display: flex;\n",
        "  align-items: center;\n",
        "  margin-bottom: 20px; /* Adjust spacing between entries */\n",
        "}\n",
        "\n",
        ".col-md-4, .col-md-8 {\n",
        "  padding: 15px;\n",
        "}\n",
        "\n",
        "/* Ensure images are responsive */\n",
        "img {\n",
        "  max-width: 100%;\n",
        "  height: auto;\n",
        "}\n",
        "\n",
        "This is the directory for the UWF STA 6257 group: The Linear Mixed Modelers. Thank you for stopping by our page!\n",
        "\n",
        "::: row\n",
        "::: col-md-4\n",
        "\\[Joshua J. Cook, M.S., ACRP-PM, CCRC\\]![](images/josh.JPG)\n",
        ":::\n",
        "\n",
        "::: col-md-8\n",
        "### Joshua J. Cook, M.S., ACRP-PM, CCRC\n",
        "\n",
        "Joshua J. Cook, M.S., ACRP-PM, CCRC is a recent graduate of Wake Forest University (WFU) where he earned his Master of Science for Clinical Research Management. He is a current graduate student at the University of West Florida (UWF) studying Data Science while working at the university as an Adjunct Professor. Joshua worked in the field of clinical research for nearly three years, starting in neurology clinical trials and then specializing in orthopedic regenerative medicine as a Research Quality Analyst. He has published his undergraduate honors thesis, entitled “Endurance exercise-mediated metabolic reshuffle attenuates high-caloric diet-induced non-alcoholic fatty liver disease” in the Annals of Hepatology and has recently submitted several orthopedic research papers to various journals. He has also presented his research at over ten unique conferences at the local, state, and national levels with topics spanning from the impact of blood sugar on Alzheimer’s Disease to publication metric tracking with R and Microsoft Power BI®. Joshua has developed a passion for bench-to-bedside research and aims to synthesize his knowledge of the biomedical sciences, clinical research, and data science to become a physician-scientist capable of integrating clinical care with clinical research in a way that maximizes evidence-based care options for his patients. \n",
        ":::\n",
        ":::"
      ],
      "id": "9b277367"
    }
  ],
  "metadata": {
    "kernelspec": {
      "display_name": "Python 3",
      "language": "python",
      "name": "python3"
    }
  },
  "nbformat": 4,
  "nbformat_minor": 5
}